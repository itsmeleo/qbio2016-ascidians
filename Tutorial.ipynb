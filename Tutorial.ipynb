{
 "cells": [
  {
   "cell_type": "markdown",
   "metadata": {},
   "source": [
    "# Loading the data\n",
    "No much to say here"
   ]
  },
  {
   "cell_type": "code",
   "execution_count": null,
   "metadata": {
    "collapsed": false
   },
   "outputs": [],
   "source": [
    "from loading_data import loading_data\n",
    "from IPython.display import display\n",
    "path_to_data = './Data/'\n",
    "(lin_tree, fates, fates2,\n",
    " fates3, vol, inv_lin_tree,\n",
    " surf_ex, surfaces, names,\n",
    " properties, ColorMap) = loading_data(path_to_data)"
   ]
  },
  {
   "cell_type": "markdown",
   "metadata": {},
   "source": [
    "# Lineage tree data structure manipulation"
   ]
  },
  {
   "cell_type": "markdown",
   "metadata": {},
   "source": [
    "## Cell ids\n",
    "\n",
    "A cell id is a unique identifier for every cell at a given time point.\n",
    "\n",
    "These ids are not random and from them can be extracted their time origin and their unique identifiant in their image origin (this id is not unique accross the whole movie).\n",
    "\n",
    "- `cell_id = origin_time * 10**4 + origin_label`\n",
    "\n",
    "so if you want to get back the time and the label of a cell you can do it that way:\n",
    "- `origin_label = cell_id%10**4` is the corresonding label in the image\n",
    "- `origin_time = cell_id//10**4` is the corresponding time (note that // is the floor division)\n",
    "\n",
    "Practically, if a cell id is `1230341` then it means that its time in the movie is `123` and its label in the corresponding segmented image is `341`"
   ]
  },
  {
   "cell_type": "markdown",
   "metadata": {},
   "source": [
    "## Dictionary data structure\n",
    "[Dictionary python doc 1](https://docs.python.org/2/tutorial/datastructures.html#dictionaries)\n",
    "[Dictionary python doc 2](https://docs.python.org/2/library/stdtypes.html#dict)\n",
    "\n",
    "[A bit more on dictionaries](http://www.tutorialspoint.com/python/python_dictionary.htm)\n",
    "\n",
    "The main methods that we will use are the following:\n",
    "- [iteritems](https://docs.python.org/2/library/stdtypes.html#dict.iteritems)\n",
    "- [get](https://docs.python.org/2/library/stdtypes.html#dict.get)\n",
    "- [setdefault](https://docs.python.org/2/library/stdtypes.html#dict.setdefault)\n",
    "\n",
    "## Lineage tree data structure\n",
    "\n",
    "The lineage tree data structure is a dictionary where the key is a cell id at time `t` and the key is the list of its successors at time `t+1`.\n",
    "\n",
    "Lets have a cell with the id `920257`"
   ]
  },
  {
   "cell_type": "code",
   "execution_count": null,
   "metadata": {
    "collapsed": false
   },
   "outputs": [],
   "source": [
    "cell_id = 920257"
   ]
  },
  {
   "cell_type": "markdown",
   "metadata": {},
   "source": [
    "Then its successors can be found that way:"
   ]
  },
  {
   "cell_type": "code",
   "execution_count": null,
   "metadata": {
    "collapsed": false
   },
   "outputs": [],
   "source": [
    "succ = lin_tree[cell_id]\n",
    "print(succ)"
   ]
  },
  {
   "cell_type": "markdown",
   "metadata": {},
   "source": [
    "In general, in our dataset (and generally in any of the datasets that we will generate during this course) the number of successors is either `1` or `2`\n",
    "\n",
    "In the previous case `cell_id` has `1` successor meaning that the cell didn't divide.\n",
    "\n",
    "If we now look at successors of the cell `1180194`"
   ]
  },
  {
   "cell_type": "code",
   "execution_count": null,
   "metadata": {
    "collapsed": false
   },
   "outputs": [],
   "source": [
    "succ2 = lin_tree[1180194]\n",
    "print(succ2)"
   ]
  },
  {
   "cell_type": "markdown",
   "metadata": {},
   "source": [
    "It has two successors meaning that the cell divided into two sister cells.\n",
    "\n",
    "Therefore the lenght of the list of the successor of a given cell give the information about whether or not the cell will divide at the next time point.\n",
    "\n",
    "Knowing that if we want to gather all the cell_ids that will divide at the next time point in a list, it can be done the following way:"
   ]
  },
  {
   "cell_type": "code",
   "execution_count": null,
   "metadata": {
    "collapsed": true
   },
   "outputs": [],
   "source": [
    "list_of_dividing_cells = []\n",
    "for cell_id, succ in lin_tree.iteritems():\n",
    "    if len(succ) == 2:\n",
    "        list_of_dividing_cells.append(cell_id)"
   ]
  },
  {
   "cell_type": "markdown",
   "metadata": {},
   "source": [
    "`list_of_dividing_cells` contains all the cell ids of the cell that will divide at the next time point.\n",
    "\n",
    "An other way to build this list, that is more a \"pythonic\" way and that is supposed to be faster, is the following:"
   ]
  },
  {
   "cell_type": "code",
   "execution_count": null,
   "metadata": {
    "collapsed": false
   },
   "outputs": [],
   "source": [
    "list_of_dividing_cells_2 = [cell_id for cell_id, succ in lin_tree.iteritems() if len(succ) == 2]\n",
    "\n",
    "if list_of_dividing_cells == list_of_dividing_cells_2:\n",
    "    print \"The two lists are equal.\"\n",
    "else:\n",
    "    print \"The two lists are not equal.\"\n",
    "\n",
    "print \"Number of dividing cell accross the movie: %d\"%len(list_of_dividing_cells)"
   ]
  },
  {
   "cell_type": "markdown",
   "metadata": {},
   "source": [
    "## Basic operation on lineage tree (and tree graphs in general)\n",
    "\n",
    "We will look at\n",
    "- how to extract all the cell_ids of a given cell (meaning from when it appears to when it divides)\n",
    "- how to extract all the cell_ids of the progeny of a given cell"
   ]
  },
  {
   "cell_type": "markdown",
   "metadata": {},
   "source": [
    "### How to extract all the cell_ids of a given cell\n",
    "- from the first cell id of the cell cycle:\n",
    "\n",
    "We first get a cell that just divided:"
   ]
  },
  {
   "cell_type": "code",
   "execution_count": null,
   "metadata": {
    "collapsed": false
   },
   "outputs": [],
   "source": [
    "cell_id = lin_tree[list_of_dividing_cells[100]][0]"
   ]
  },
  {
   "cell_type": "markdown",
   "metadata": {},
   "source": [
    "Then, the idea here is to retreive all the successors until we get a division:"
   ]
  },
  {
   "cell_type": "code",
   "execution_count": null,
   "metadata": {
    "collapsed": false
   },
   "outputs": [],
   "source": [
    "# Initialisation of the list of the cell cycle with the first cell\n",
    "cell_cycle = [cell_id]\n",
    "\n",
    "# The current cell is the first cell\n",
    "current_cell = cell_id\n",
    "\n",
    "# While current cell does not divide at the next time point,\n",
    "while len(lin_tree.get(current_cell, [])) == 1:\n",
    "    # we update the current cell to its successor\n",
    "    current_cell = lin_tree[current_cell][0]\n",
    "    # we add the successor to the list of the ids\n",
    "    cell_cycle.append(current_cell)"
   ]
  },
  {
   "cell_type": "markdown",
   "metadata": {},
   "source": [
    "An other version (slightly) more efficient (less readable)"
   ]
  },
  {
   "cell_type": "code",
   "execution_count": null,
   "metadata": {
    "collapsed": false
   },
   "outputs": [],
   "source": [
    "cell_cycle2 = [cell_id]\n",
    "while len(lin_tree.get(cell_cycle2[-1], [])) == 1:\n",
    "    cell_cycle2 += lin_tree[ cell_cycle2[-1] ]\n",
    "    \n",
    "print(cell_cycle == cell_cycle2)"
   ]
  },
  {
   "cell_type": "markdown",
   "metadata": {},
   "source": [
    "- from the last cell of the cell cycle\n",
    "\n",
    "We first get a cell that will divide"
   ]
  },
  {
   "cell_type": "code",
   "execution_count": null,
   "metadata": {
    "collapsed": true
   },
   "outputs": [],
   "source": [
    "cell_id = cell_cycle[-1]"
   ]
  },
  {
   "cell_type": "markdown",
   "metadata": {},
   "source": [
    "Then again the idea is to retreive all the predecessors until \"fusion\" to its sister cell to form the mother"
   ]
  },
  {
   "cell_type": "code",
   "execution_count": null,
   "metadata": {
    "collapsed": false
   },
   "outputs": [],
   "source": [
    "cell_cycle_reverse = [cell_id]\n",
    "current_cell = inv_lin_tree[cell_id]\n",
    "\n",
    "# while the current cell does not divide at the next time point\n",
    "# we add it to the list and get its predecessor\n",
    "while len(lin_tree.get(current_cell, [])) == 1:\n",
    "    cell_cycle_reverse.append(current_cell)\n",
    "    current_cell = inv_lin_tree[current_cell]"
   ]
  },
  {
   "cell_type": "markdown",
   "metadata": {},
   "source": [
    "An other version (slightly) more efficient (less readable)"
   ]
  },
  {
   "cell_type": "code",
   "execution_count": null,
   "metadata": {
    "collapsed": false
   },
   "outputs": [],
   "source": [
    "cell_cycle_reverse2 = [cell_id]\n",
    "while len(lin_tree.get(inv_lin_tree[cell_cycle_reverse2[-1]], [])) == 1:\n",
    "    cell_cycle_reverse2.append(inv_lin_tree[cell_cycle_reverse2[-1]])\n",
    "    \n",
    "print(\"Check if the two lists are the same\")\n",
    "print(cell_cycle_reverse == cell_cycle_reverse2)\n",
    "\n",
    "print(\"Check if the two created list are the same in the reverse order\")\n",
    "print(cell_cycle_reverse == cell_cycle[::-1])"
   ]
  },
  {
   "cell_type": "markdown",
   "metadata": {},
   "source": [
    "- From any given cell during the cell cycle\n",
    "\n",
    "We first get a cell id in the cell cycle:"
   ]
  },
  {
   "cell_type": "code",
   "execution_count": null,
   "metadata": {
    "collapsed": true
   },
   "outputs": [],
   "source": [
    "cell_id = cell_cycle[10]"
   ]
  },
  {
   "cell_type": "markdown",
   "metadata": {},
   "source": [
    "Then the idea to combine the two previous methods:"
   ]
  },
  {
   "cell_type": "code",
   "execution_count": null,
   "metadata": {
    "collapsed": true
   },
   "outputs": [],
   "source": [
    "# I am a bit lazy but you probably ca do it yourself as an exercice\n",
    "# I just start for you:\n",
    "cell_cycle_mid = []"
   ]
  },
  {
   "cell_type": "code",
   "execution_count": null,
   "metadata": {
    "collapsed": true
   },
   "outputs": [],
   "source": [
    "# your code here. Careful there is a trick with the order of the list.\n",
    "# At some point you might want to insert cell ids to your list instead of appending them"
   ]
  },
  {
   "cell_type": "code",
   "execution_count": null,
   "metadata": {
    "collapsed": false
   },
   "outputs": [],
   "source": [
    "# Then we check if you are correct:\n",
    "print(cell_cycle_mid == cell_cycle)"
   ]
  },
  {
   "cell_type": "markdown",
   "metadata": {},
   "source": [
    "### Getting all the clonal cells from a given cell id\n",
    "To do so we will do what is called a [Depth-First Search](https://en.wikipedia.org/wiki/Depth-first_search) on our lineage tree from our cell id."
   ]
  },
  {
   "cell_type": "code",
   "execution_count": null,
   "metadata": {
    "collapsed": false
   },
   "outputs": [],
   "source": [
    "cell_id = cell_cycle[0]\n",
    "\n",
    "clonal_cells = []\n",
    "cells_to_treat = [cell_id]\n",
    "\n",
    "while cells_to_treat != []:\n",
    "    current_cell = cells_to_treat.pop(-1)\n",
    "    clonal_cells.append(current_cell)\n",
    "    cells_to_treat += lin_tree.get(current_cell, [])"
   ]
  },
  {
   "cell_type": "markdown",
   "metadata": {},
   "source": [
    "# Accessing cell properties\n",
    "\n",
    "All the cell properties are stored in dictionaries where the key is a cell id for which is mapped its metric.\n",
    "\n",
    "For example `vol` is the dictionary for the volumes and the volume of the cell `cell_id` can be retrieve that way:"
   ]
  },
  {
   "cell_type": "code",
   "execution_count": null,
   "metadata": {
    "collapsed": false
   },
   "outputs": [],
   "source": [
    "vol[cell_id]"
   ]
  },
  {
   "cell_type": "markdown",
   "metadata": {},
   "source": [
    "The volume is in voxels. Knowing the dimension of the voxels it is possible to convert the volume in $\\mu m^3$ (here it is $ 0.3\\mu m \\times 0.3\\mu m \\times 0.3\\mu m $ ):"
   ]
  },
  {
   "cell_type": "code",
   "execution_count": null,
   "metadata": {
    "collapsed": false
   },
   "outputs": [],
   "source": [
    "vol[cell_id]*.3**3"
   ]
  },
  {
   "cell_type": "markdown",
   "metadata": {},
   "source": [
    "Now it is possible to retrieve all the volumes for a given cell through its cell cycle."
   ]
  },
  {
   "cell_type": "code",
   "execution_count": null,
   "metadata": {
    "collapsed": true
   },
   "outputs": [],
   "source": [
    "cell_cycle_volume = []\n",
    "# the cell_cycle list is the list previously generated\n",
    "for c in cell_cycle:\n",
    "    cell_cycle_volume.append(vol[c])\n",
    "    \n",
    "# An other more pythonic way:\n",
    "cell_cycle_volume = [vol[c] for c in cell_cycle]"
   ]
  },
  {
   "cell_type": "markdown",
   "metadata": {},
   "source": [
    "Using the numpy library we can then compute some statistics on these volumes:"
   ]
  },
  {
   "cell_type": "code",
   "execution_count": null,
   "metadata": {
    "collapsed": false
   },
   "outputs": [],
   "source": [
    "import numpy as np\n",
    "\n",
    "print(\"The average:\")\n",
    "print(np.mean(cell_cycle_volume))\n",
    "\n",
    "print(\"The median:\")\n",
    "print(np.median(cell_cycle_volume))\n",
    "\n",
    "print(\"The standard deviation:\")\n",
    "print(np.std(cell_cycle_volume))"
   ]
  },
  {
   "cell_type": "markdown",
   "metadata": {},
   "source": [
    "And we can plot the evolution of volume using matplotlib tools:"
   ]
  },
  {
   "cell_type": "code",
   "execution_count": null,
   "metadata": {
    "collapsed": false
   },
   "outputs": [],
   "source": [
    "from matplotlib import pyplot as plt\n",
    "%matplotlib inline\n",
    "\n",
    "plt.plot(cell_cycle_volume)"
   ]
  },
  {
   "cell_type": "markdown",
   "metadata": {},
   "source": [
    "### Accessing the surface of contact\n",
    "\n",
    "The dictionary that link a cell_id to its surface of contact is slightly more complicated since it is a dictionary of dictionaries.\n",
    "\n",
    "This dictionary is called `surf_ex` (for surface exchange).\n",
    "\n",
    "This is the value for a given cell id:"
   ]
  },
  {
   "cell_type": "code",
   "execution_count": null,
   "metadata": {
    "collapsed": false
   },
   "outputs": [],
   "source": [
    "surf_ex[cell_id]"
   ]
  },
  {
   "cell_type": "markdown",
   "metadata": {},
   "source": [
    "So it is a dictionary, this dictionary contains as keys all the ids of the neighbors of this cell id at this given time point.\n",
    "\n",
    "To these neighbors is mapped the surface of contact they share with the cell `cell_id`.\n",
    "The cell with the id `time * 10**4 + 1` is the \"cell\" that represent the exterior.\n",
    "\n",
    "Therefore the cell `cell_id` shares an area of contact with the exterior of:"
   ]
  },
  {
   "cell_type": "code",
   "execution_count": null,
   "metadata": {
    "collapsed": false
   },
   "outputs": [],
   "source": [
    "cell_id_time = cell_id//10**4\n",
    "surf_ex[cell_id][cell_id_time * 10**4 + 1]"
   ]
  },
  {
   "cell_type": "markdown",
   "metadata": {},
   "source": [
    "Which gives in $\\mu m^2$:"
   ]
  },
  {
   "cell_type": "code",
   "execution_count": null,
   "metadata": {
    "collapsed": false
   },
   "outputs": [],
   "source": [
    "surf_ex[cell_id][cell_id_time * 10**4 + 1] * .3**2"
   ]
  },
  {
   "cell_type": "markdown",
   "metadata": {},
   "source": [
    "### Accessing the different cell fates\n",
    "\n",
    "The dictionary to access the cell fates is `fates3`\n",
    "It has cell ids has keys to which it maps a string that represent this cell fate."
   ]
  },
  {
   "cell_type": "code",
   "execution_count": null,
   "metadata": {
    "collapsed": false
   },
   "outputs": [],
   "source": [
    "fates3[cell_id]"
   ]
  },
  {
   "cell_type": "markdown",
   "metadata": {},
   "source": [
    "Since some cells might not have their fate determined at all times during the development not all cells has a mapped fate in the `fate3` dictionary:"
   ]
  },
  {
   "cell_type": "code",
   "execution_count": null,
   "metadata": {
    "collapsed": false
   },
   "outputs": [],
   "source": [
    "cell_with_no_fate = 410097\n",
    "\n",
    "print(fates3.has_key(cell_with_no_fate))"
   ]
  },
  {
   "cell_type": "markdown",
   "metadata": {},
   "source": [
    "To avoid execution errors it is preferable to call the fate dictionary that way:"
   ]
  },
  {
   "cell_type": "code",
   "execution_count": null,
   "metadata": {
    "collapsed": false
   },
   "outputs": [],
   "source": [
    "print(fates3.get(cell_id, 'Undetermined'))\n",
    "print(fates3.get(cell_with_no_fate, 'Undetermined'))"
   ]
  },
  {
   "cell_type": "markdown",
   "metadata": {},
   "source": [
    "Eventhough the cell `cell_with_no_fate` does not have a fate specified yet, it is possible that its daughter is:"
   ]
  },
  {
   "cell_type": "code",
   "execution_count": null,
   "metadata": {
    "collapsed": false
   },
   "outputs": [],
   "source": [
    "daughter1, daughter2 = lin_tree[cell_with_no_fate]\n",
    "print('Fate of the first daughter:')\n",
    "print(fates3.get(daughter1, 'Undetermined'))\n",
    "print('Fate of the seconde daughter:')\n",
    "print(fates3.get(daughter2, 'Undetermined'))"
   ]
  },
  {
   "cell_type": "markdown",
   "metadata": {},
   "source": [
    "### Exercice:\n",
    "\n",
    "We can now try to compute the surface of contact between the cell `cell_id` and to the 'Epidermis Tail' tissue"
   ]
  },
  {
   "cell_type": "code",
   "execution_count": null,
   "metadata": {
    "collapsed": false
   },
   "outputs": [],
   "source": [
    "tissue_name = 'Epidermis Tail'\n",
    "surface_of_contact = surf_ex[cell_id]\n",
    "\n",
    "# Now compute how much the cell cell_id share with the Tail epidermis tissue"
   ]
  }
 ],
 "metadata": {
  "kernelspec": {
   "display_name": "Python 2",
   "language": "python",
   "name": "python2"
  },
  "language_info": {
   "codemirror_mode": {
    "name": "ipython",
    "version": 2
   },
   "file_extension": ".py",
   "mimetype": "text/x-python",
   "name": "python",
   "nbconvert_exporter": "python",
   "pygments_lexer": "ipython2",
   "version": "2.7.11"
  }
 },
 "nbformat": 4,
 "nbformat_minor": 0
}
