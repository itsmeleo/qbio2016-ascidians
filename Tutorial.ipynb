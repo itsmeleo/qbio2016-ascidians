{
 "cells": [
  {
   "cell_type": "markdown",
   "metadata": {},
   "source": [
    "# Loading the data\n",
    "No much to say here"
   ]
  },
  {
   "cell_type": "code",
   "execution_count": 1,
   "metadata": {
    "collapsed": false
   },
   "outputs": [
    {
     "name": "stderr",
     "output_type": "stream",
     "text": [
      "/Users/guignardl/Library/Python/2.7/lib/python/site-packages/matplotlib/font_manager.py:273: UserWarning: Matplotlib is building the font cache using fc-list. This may take a moment.\n",
      "  warnings.warn('Matplotlib is building the font cache using fc-list. This may take a moment.')\n"
     ]
    }
   ],
   "source": [
    "from loading_data import loading_data\n",
    "from IPython.display import display\n",
    "path_to_data = './Data/'\n",
    "(lin_tree, fates, fates2,\n",
    " fates3, vol, inv_lin_tree,\n",
    " surf_ex, surfaces, names,\n",
    " properties, ColorMap) = loading_data(path_to_data)"
   ]
  },
  {
   "cell_type": "markdown",
   "metadata": {},
   "source": [
    "# Lineage tree data structure manipulation"
   ]
  },
  {
   "cell_type": "markdown",
   "metadata": {},
   "source": [
    "## Cell ids\n",
    "\n",
    "A cell id is a unique identifier for every cell at a given time point.\n",
    "\n",
    "These ids are not random and from them can be extracted their time origin and their unique identifiant in their image origin (this id is not unique accross the whole movie).\n",
    "\n",
    "- `cell_id = origin_time * 10**4 + origin_label`\n",
    "\n",
    "so if you want to get back the time and the label of a cell you can do it that way:\n",
    "- `origin_label = cell_id%10**4` is the corresonding label in the image\n",
    "- `origin_time = cell_id//10**4` is the corresponding time (note that // is the floor division)\n",
    "\n",
    "Practically, if a cell id is `1230341` then it means that its time in the movie is `123` and its label in the corresponding segmented image is `341`"
   ]
  },
  {
   "cell_type": "markdown",
   "metadata": {},
   "source": [
    "## Dictionary data structure\n",
    "[Dictionary python doc 1](https://docs.python.org/2/tutorial/datastructures.html#dictionaries)\n",
    "[Dictionary python doc 2](https://docs.python.org/2/library/stdtypes.html#dict)\n",
    "\n",
    "[A bit more on dictionaries](http://www.tutorialspoint.com/python/python_dictionary.htm)\n",
    "\n",
    "The main methods that we will use are the following:\n",
    "- [iteritems](https://docs.python.org/2/library/stdtypes.html#dict.iteritems)\n",
    "- [get](https://docs.python.org/2/library/stdtypes.html#dict.get)\n",
    "- [setdefault](https://docs.python.org/2/library/stdtypes.html#dict.setdefault)\n",
    "\n",
    "## Lineage tree data structure\n",
    "\n",
    "The lineage tree data structure is a dictionary where the key is a cell id at time `t` and the key is the list of its successors at time `t+1`.\n",
    "\n",
    "Lets have a cell with the id `920257`"
   ]
  },
  {
   "cell_type": "code",
   "execution_count": 2,
   "metadata": {
    "collapsed": false
   },
   "outputs": [],
   "source": [
    "cell_id = 920257"
   ]
  },
  {
   "cell_type": "markdown",
   "metadata": {},
   "source": [
    "Then its successors can be found that way:"
   ]
  },
  {
   "cell_type": "code",
   "execution_count": 3,
   "metadata": {
    "collapsed": false
   },
   "outputs": [
    {
     "name": "stdout",
     "output_type": "stream",
     "text": [
      "[930267]\n"
     ]
    }
   ],
   "source": [
    "succ = lin_tree[cell_id]\n",
    "print(succ)"
   ]
  },
  {
   "cell_type": "markdown",
   "metadata": {},
   "source": [
    "In general, in our dataset (and generally in any of the datasets that we will generate during this course) the number of successors is either `1` or `2`\n",
    "\n",
    "In the previous case `cell_id` has `1` successor meaning that the cell didn't divide.\n",
    "\n",
    "If we now look at successors of the cell `1180194`"
   ]
  },
  {
   "cell_type": "code",
   "execution_count": 4,
   "metadata": {
    "collapsed": false
   },
   "outputs": [
    {
     "name": "stdout",
     "output_type": "stream",
     "text": [
      "[1190193, 1190194]\n"
     ]
    }
   ],
   "source": [
    "succ2 = lin_tree[1180194]\n",
    "print(succ2)"
   ]
  },
  {
   "cell_type": "markdown",
   "metadata": {},
   "source": [
    "It has two successors meaning that the cell divided into two sister cells.\n",
    "\n",
    "Therefore the lenght of the list of the successor of a given cell give the information about whether or not the cell will divide at the next time point.\n",
    "\n",
    "Knowing that if we want to gather all the cell_ids that will divide at the next time point in a list, it can be done the following way:"
   ]
  },
  {
   "cell_type": "code",
   "execution_count": 5,
   "metadata": {
    "collapsed": true
   },
   "outputs": [],
   "source": [
    "list_of_dividing_cells = []\n",
    "for cell_id, succ in lin_tree.iteritems():\n",
    "    if len(succ) == 2:\n",
    "        list_of_dividing_cells.append(cell_id)"
   ]
  },
  {
   "cell_type": "markdown",
   "metadata": {},
   "source": [
    "`list_of_dividing_cells` contains all the cell ids of the cell that will divide at the next time point.\n",
    "\n",
    "An other way to build this list, that is more a \"pythonic\" way and that is supposed to be faster, is the following:"
   ]
  },
  {
   "cell_type": "code",
   "execution_count": 6,
   "metadata": {
    "collapsed": false
   },
   "outputs": [
    {
     "name": "stdout",
     "output_type": "stream",
     "text": [
      "The two lists are equal.\n",
      "Number of dividing cell accross the movie: 639\n"
     ]
    }
   ],
   "source": [
    "list_of_dividing_cells_2 = [cell_id for cell_id, succ in lin_tree.iteritems() if len(succ) == 2]\n",
    "\n",
    "if list_of_dividing_cells == list_of_dividing_cells_2:\n",
    "    print \"The two lists are equal.\"\n",
    "else:\n",
    "    print \"The two lists are not equal.\"\n",
    "\n",
    "print \"Number of dividing cell accross the movie: %d\"%len(list_of_dividing_cells)"
   ]
  },
  {
   "cell_type": "markdown",
   "metadata": {},
   "source": [
    "## Basic operation on lineage tree (and tree graphs in general)\n",
    "\n",
    "We will look at\n",
    "- how to extract all the cell_ids of a given cell (meaning from when it appears to when it divides)\n",
    "- how to extract all the cell_ids of the progeny of a given cell"
   ]
  },
  {
   "cell_type": "markdown",
   "metadata": {},
   "source": [
    "### How to extract all the cell_ids of a given cell\n",
    "- from the first cell id of the cell cycle:\n",
    "\n",
    "We first get a cell that just divided:"
   ]
  },
  {
   "cell_type": "code",
   "execution_count": 7,
   "metadata": {
    "collapsed": false
   },
   "outputs": [],
   "source": [
    "cell_id = lin_tree[list_of_dividing_cells[100]][0]"
   ]
  },
  {
   "cell_type": "markdown",
   "metadata": {},
   "source": [
    "Then, the idea here is to retreive all the successors until we get a division:"
   ]
  },
  {
   "cell_type": "code",
   "execution_count": 8,
   "metadata": {
    "collapsed": false
   },
   "outputs": [],
   "source": [
    "# Initialisation of the list of the cell cycle with the first cell\n",
    "cell_cycle = [cell_id]\n",
    "\n",
    "# The current cell is the first cell\n",
    "current_cell = cell_id\n",
    "\n",
    "# While current cell does not divide at the next time point,\n",
    "while len(lin_tree.get(current_cell, [])) == 1:\n",
    "    # we update the current cell to its successor\n",
    "    current_cell = lin_tree[current_cell][0]\n",
    "    # we add the successor to the list of the ids\n",
    "    cell_cycle.append(current_cell)"
   ]
  },
  {
   "cell_type": "markdown",
   "metadata": {},
   "source": [
    "An other version (slightly) more efficient (less readable)"
   ]
  },
  {
   "cell_type": "code",
   "execution_count": 9,
   "metadata": {
    "collapsed": false
   },
   "outputs": [
    {
     "name": "stdout",
     "output_type": "stream",
     "text": [
      "True\n"
     ]
    }
   ],
   "source": [
    "cell_cycle2 = [cell_id]\n",
    "while len(lin_tree.get(cell_cycle2[-1], [])) == 1:\n",
    "    cell_cycle2 += lin_tree[ cell_cycle2[-1] ]\n",
    "    \n",
    "print(cell_cycle == cell_cycle2)"
   ]
  },
  {
   "cell_type": "markdown",
   "metadata": {},
   "source": [
    "- from the last cell of the cell cycle\n",
    "\n",
    "We first get a cell that will divide"
   ]
  },
  {
   "cell_type": "code",
   "execution_count": 10,
   "metadata": {
    "collapsed": true
   },
   "outputs": [],
   "source": [
    "cell_id = cell_cycle[-1]"
   ]
  },
  {
   "cell_type": "markdown",
   "metadata": {},
   "source": [
    "Then again the idea is to retreive all the predecessors until \"fusion\" to its sister cell to form the mother"
   ]
  },
  {
   "cell_type": "code",
   "execution_count": 11,
   "metadata": {
    "collapsed": false
   },
   "outputs": [],
   "source": [
    "cell_cycle_reverse = [cell_id]\n",
    "current_cell = inv_lin_tree[cell_id]\n",
    "\n",
    "# while the current cell does not divide at the next time point\n",
    "# we add it to the list and get its predecessor\n",
    "while len(lin_tree.get(current_cell, [])) == 1:\n",
    "    cell_cycle_reverse.append(current_cell)\n",
    "    current_cell = inv_lin_tree[current_cell]"
   ]
  },
  {
   "cell_type": "markdown",
   "metadata": {},
   "source": [
    "An other version (slightly) more efficient (less readable)"
   ]
  },
  {
   "cell_type": "code",
   "execution_count": 12,
   "metadata": {
    "collapsed": false
   },
   "outputs": [
    {
     "name": "stdout",
     "output_type": "stream",
     "text": [
      "Check if the two lists are the same\n",
      "True\n",
      "Check if the two created list are the same in the reverse order\n",
      "True\n"
     ]
    }
   ],
   "source": [
    "cell_cycle_reverse2 = [cell_id]\n",
    "while len(lin_tree.get(inv_lin_tree[cell_cycle_reverse2[-1]], [])) == 1:\n",
    "    cell_cycle_reverse2.append(inv_lin_tree[cell_cycle_reverse2[-1]])\n",
    "    \n",
    "print(\"Check if the two lists are the same\")\n",
    "print(cell_cycle_reverse == cell_cycle_reverse2)\n",
    "\n",
    "print(\"Check if the two created list are the same in the reverse order\")\n",
    "print(cell_cycle_reverse == cell_cycle[::-1])"
   ]
  },
  {
   "cell_type": "markdown",
   "metadata": {},
   "source": [
    "- From any given cell during the cell cycle\n",
    "\n",
    "We first get a cell id in the cell cycle:"
   ]
  },
  {
   "cell_type": "code",
   "execution_count": 13,
   "metadata": {
    "collapsed": true
   },
   "outputs": [],
   "source": [
    "cell_id = cell_cycle[10]"
   ]
  },
  {
   "cell_type": "markdown",
   "metadata": {},
   "source": [
    "Then the idea to combine the two previous methods:"
   ]
  },
  {
   "cell_type": "code",
   "execution_count": 14,
   "metadata": {
    "collapsed": true
   },
   "outputs": [],
   "source": [
    "# I am a bit lazy but you probably ca do it yourself as an exercice\n",
    "# I just start for you:\n",
    "cell_cycle_mid = []"
   ]
  },
  {
   "cell_type": "code",
   "execution_count": 15,
   "metadata": {
    "collapsed": true
   },
   "outputs": [],
   "source": [
    "# your code here. Careful there is a trick with the order of the list.\n",
    "# At some point you might want to insert cell ids to your list instead of appending them"
   ]
  },
  {
   "cell_type": "code",
   "execution_count": 16,
   "metadata": {
    "collapsed": false
   },
   "outputs": [
    {
     "name": "stdout",
     "output_type": "stream",
     "text": [
      "False\n"
     ]
    }
   ],
   "source": [
    "# Then we check if you are correct:\n",
    "print(cell_cycle_mid == cell_cycle)"
   ]
  },
  {
   "cell_type": "markdown",
   "metadata": {},
   "source": [
    "### Getting all the clonal cells from a given cell id\n",
    "To do so we will do what is called a [Depth-First Search](https://en.wikipedia.org/wiki/Depth-first_search) on our lineage tree from our cell id."
   ]
  },
  {
   "cell_type": "code",
   "execution_count": 17,
   "metadata": {
    "collapsed": false
   },
   "outputs": [],
   "source": [
    "cell_id = cell_cycle[0]\n",
    "\n",
    "clonal_cells = []\n",
    "cells_to_treat = [cell_id]\n",
    "\n",
    "while cells_to_treat != []:\n",
    "    current_cell = cells_to_treat.pop(-1)\n",
    "    clonal_cells.append(current_cell)\n",
    "    cells_to_treat += lin_tree.get(current_cell, [])"
   ]
  },
  {
   "cell_type": "markdown",
   "metadata": {},
   "source": [
    "# Accessing cell properties\n",
    "\n",
    "All the cell properties are stored in dictionaries where the key is a cell id for which is mapped its metric.\n",
    "\n",
    "For example `vol` is the dictionary for the volumes and the volume of the cell `cell_id` can be retrieve that way:"
   ]
  },
  {
   "cell_type": "code",
   "execution_count": 18,
   "metadata": {
    "collapsed": false
   },
   "outputs": [
    {
     "data": {
      "text/plain": [
       "119428.0"
      ]
     },
     "execution_count": 18,
     "metadata": {},
     "output_type": "execute_result"
    }
   ],
   "source": [
    "vol[cell_id]"
   ]
  },
  {
   "cell_type": "markdown",
   "metadata": {},
   "source": [
    "The volume is in voxels. Knowing the dimension of the voxels it is possible to convert the volume in $\\mu m^3$ (here it is $ 0.3\\mu m \\times 0.3\\mu m \\times 0.3\\mu m $ ):"
   ]
  },
  {
   "cell_type": "code",
   "execution_count": 19,
   "metadata": {
    "collapsed": false
   },
   "outputs": [
    {
     "data": {
      "text/plain": [
       "3224.5559999999996"
      ]
     },
     "execution_count": 19,
     "metadata": {},
     "output_type": "execute_result"
    }
   ],
   "source": [
    "vol[cell_id]*.3**3"
   ]
  },
  {
   "cell_type": "markdown",
   "metadata": {},
   "source": [
    "Now it is possible to retrieve all the volumes for a given cell through its cell cycle."
   ]
  },
  {
   "cell_type": "code",
   "execution_count": 20,
   "metadata": {
    "collapsed": true
   },
   "outputs": [],
   "source": [
    "cell_cycle_volume = []\n",
    "# the cell_cycle list is the list previously generated\n",
    "for c in cell_cycle:\n",
    "    cell_cycle_volume.append(vol[c])\n",
    "    \n",
    "# An other more pythonic way:\n",
    "cell_cycle_volume = [vol[c] for c in cell_cycle]"
   ]
  },
  {
   "cell_type": "markdown",
   "metadata": {},
   "source": [
    "Using the numpy library we can then compute some statistics on these volumes:"
   ]
  },
  {
   "cell_type": "code",
   "execution_count": 21,
   "metadata": {
    "collapsed": false
   },
   "outputs": [
    {
     "name": "stdout",
     "output_type": "stream",
     "text": [
      "The average:\n",
      "115195.822222\n",
      "The median:\n",
      "114466.0\n",
      "The standard deviation:\n",
      "4775.20358281\n"
     ]
    }
   ],
   "source": [
    "import numpy as np\n",
    "\n",
    "print(\"The average:\")\n",
    "print(np.mean(cell_cycle_volume))\n",
    "\n",
    "print(\"The median:\")\n",
    "print(np.median(cell_cycle_volume))\n",
    "\n",
    "print(\"The standard deviation:\")\n",
    "print(np.std(cell_cycle_volume))"
   ]
  },
  {
   "cell_type": "markdown",
   "metadata": {},
   "source": [
    "And we can plot the evolution of volume using matplotlib tools:"
   ]
  },
  {
   "cell_type": "code",
   "execution_count": 22,
   "metadata": {
    "collapsed": false
   },
   "outputs": [
    {
     "data": {
      "text/plain": [
       "[<matplotlib.lines.Line2D at 0x1463e88d0>]"
      ]
     },
     "execution_count": 22,
     "metadata": {},
     "output_type": "execute_result"
    },
    {
     "data": {
      "image/png": "[encoded data removed]",
      "text/plain": [
       "<matplotlib.figure.Figure at 0x10970ca50>"
      ]
     },
     "metadata": {},
     "output_type": "display_data"
    }
   ],
   "source": [
    "from matplotlib import pyplot as plt\n",
    "%matplotlib inline\n",
    "\n",
    "plt.plot(cell_cycle_volume)"
   ]
  },
  {
   "cell_type": "markdown",
   "metadata": {},
   "source": [
    "### Accessing the surface of contact\n",
    "\n",
    "The dictionary that link a cell_id to its surface of contact is slightly more complicated since it is a dictionary of dictionaries.\n",
    "\n",
    "This dictionary is called `surf_ex` (for surface exchange).\n",
    "\n",
    "This is the value for a given cell id:"
   ]
  },
  {
   "cell_type": "code",
   "execution_count": 23,
   "metadata": {
    "collapsed": false
   },
   "outputs": [
    {
     "data": {
      "text/plain": [
       "{820001: 4255.0,\n",
       " 820153: 41.0,\n",
       " 820154: 639.0,\n",
       " 820181: 2730.0,\n",
       " 820183: 1579.0,\n",
       " 820187: 1339.0,\n",
       " 820188: 1091.0,\n",
       " 820189: 618.0,\n",
       " 820194: 44.0,\n",
       " 820217: 2.0}"
      ]
     },
     "execution_count": 23,
     "metadata": {},
     "output_type": "execute_result"
    }
   ],
   "source": [
    "surf_ex[cell_id]"
   ]
  },
  {
   "cell_type": "markdown",
   "metadata": {},
   "source": [
    "So it is a dictionary, this dictionary contains as keys all the ids of the neighbors of this cell id at this given time point.\n",
    "\n",
    "To these neighbors is mapped the surface of contact they share with the cell `cell_id`.\n",
    "The cell with the id `time * 10**4 + 1` is the \"cell\" that represent the exterior.\n",
    "\n",
    "Therefore the cell `cell_id` shares an area of contact with the exterior of:"
   ]
  },
  {
   "cell_type": "code",
   "execution_count": 24,
   "metadata": {
    "collapsed": false
   },
   "outputs": [
    {
     "data": {
      "text/plain": [
       "4255.0"
      ]
     },
     "execution_count": 24,
     "metadata": {},
     "output_type": "execute_result"
    }
   ],
   "source": [
    "cell_id_time = cell_id//10**4\n",
    "surf_ex[cell_id][cell_id_time * 10**4 + 1]"
   ]
  },
  {
   "cell_type": "markdown",
   "metadata": {},
   "source": [
    "Which gives in $\\mu m^2$:"
   ]
  },
  {
   "cell_type": "code",
   "execution_count": 25,
   "metadata": {
    "collapsed": false
   },
   "outputs": [
    {
     "data": {
      "text/plain": [
       "382.94999999999999"
      ]
     },
     "execution_count": 25,
     "metadata": {},
     "output_type": "execute_result"
    }
   ],
   "source": [
    "surf_ex[cell_id][cell_id_time * 10**4 + 1] * .3**2"
   ]
  },
  {
   "cell_type": "markdown",
   "metadata": {},
   "source": [
    "### Accessing the different cell fates\n",
    "\n",
    "The dictionary to access the cell fates is `fates3`\n",
    "It has cell ids has keys to which it maps a string that represent this cell fate."
   ]
  },
  {
   "cell_type": "code",
   "execution_count": 26,
   "metadata": {
    "collapsed": false
   },
   "outputs": [
    {
     "data": {
      "text/plain": [
       "'Epidermis Tail'"
      ]
     },
     "execution_count": 26,
     "metadata": {},
     "output_type": "execute_result"
    }
   ],
   "source": [
    "fates3[cell_id]"
   ]
  },
  {
   "cell_type": "markdown",
   "metadata": {},
   "source": [
    "Since some cells might not have their fate determined at all times during the development not all cells has a mapped fate in the `fate3` dictionary:"
   ]
  },
  {
   "cell_type": "code",
   "execution_count": 27,
   "metadata": {
    "collapsed": false
   },
   "outputs": [
    {
     "name": "stdout",
     "output_type": "stream",
     "text": [
      "False\n"
     ]
    }
   ],
   "source": [
    "cell_with_no_fate = 410097\n",
    "\n",
    "print(fates3.has_key(cell_with_no_fate))"
   ]
  },
  {
   "cell_type": "markdown",
   "metadata": {},
   "source": [
    "To avoid execution errors it is preferable to call the fate dictionary that way:"
   ]
  },
  {
   "cell_type": "code",
   "execution_count": 28,
   "metadata": {
    "collapsed": false
   },
   "outputs": [
    {
     "name": "stdout",
     "output_type": "stream",
     "text": [
      "Epidermis Tail\n",
      "Undetermined\n"
     ]
    }
   ],
   "source": [
    "print(fates3.get(cell_id, 'Undetermined'))\n",
    "print(fates3.get(cell_with_no_fate, 'Undetermined'))"
   ]
  },
  {
   "cell_type": "markdown",
   "metadata": {},
   "source": [
    "Eventhough the cell `cell_with_no_fate` does not have a fate specified yet, it is possible that its daughter is:"
   ]
  },
  {
   "cell_type": "code",
   "execution_count": 29,
   "metadata": {
    "collapsed": false
   },
   "outputs": [
    {
     "name": "stdout",
     "output_type": "stream",
     "text": [
      "Fate of the first daughter:\n",
      "Undetermined\n",
      "Fate of the seconde daughter:\n",
      "Endoderm Head\n"
     ]
    }
   ],
   "source": [
    "daughter1, daughter2 = lin_tree[cell_with_no_fate]\n",
    "print('Fate of the first daughter:')\n",
    "print(fates3.get(daughter1, 'Undetermined'))\n",
    "print('Fate of the seconde daughter:')\n",
    "print(fates3.get(daughter2, 'Undetermined'))"
   ]
  },
  {
   "cell_type": "markdown",
   "metadata": {},
   "source": [
    "### Exercices:\n",
    "\n",
    "1) We can now try to compute the surface of contact between the cell `cell_id` and to the 'Epidermis Tail' tissue"
   ]
  },
  {
   "cell_type": "code",
   "execution_count": 30,
   "metadata": {
    "collapsed": false
   },
   "outputs": [],
   "source": [
    "tissue_name = 'Epidermis Tail'\n",
    "surface_of_contact = surf_ex[cell_id]\n",
    "\n",
    "# Now compute how much the cell cell_id share with the Tail epidermis tissue"
   ]
  },
  {
   "cell_type": "markdown",
   "metadata": {},
   "source": [
    "2) Computation of the evolution of volume of the previously determined clone\n",
    "\n",
    "The first step is to arrange the cells by time points in a dictionary."
   ]
  },
  {
   "cell_type": "code",
   "execution_count": 33,
   "metadata": {
    "collapsed": false
   },
   "outputs": [
    {
     "name": "stdout",
     "output_type": "stream",
     "text": [
      "False\n"
     ]
    }
   ],
   "source": [
    "clonal_cells_by_time = {}\n",
    "\n",
    "## HERE IS YOUR CODE\n",
    "\n",
    "result = {82: [820182], 83: [830184], 84: [840187], 85: [850201], 86: [860208],\n",
    "          87: [870219], 88: [880225], 89: [890232], 90: [900245], 91: [910253],\n",
    "          92: [920255], 93: [930265], 94: [940265], 95: [950266], 96: [960268],\n",
    "          97: [970265], 98: [980270], 99: [990272], 100: [1000284], 101: [1010286],\n",
    "          102: [1020288], 103: [1030286], 104: [1040285], 105: [1050289], 106: [1060290],\n",
    "          107: [1070292], 108: [1080297], 109: [1090297], 110: [1100300], 111: [1110305],\n",
    "          112: [1120305], 113: [1130302], 114: [1140308], 115: [1150299], 116: [1160301],\n",
    "          117: [1170294], 118: [1180294], 119: [1190294], 120: [1200294], 121: [1210297],\n",
    "          122: [1220299], 123: [1230297], 124: [1240299], 125: [1250296], 126: [1260302],\n",
    "          127: [1270301, 1270300], 128: [1280304, 1280303], 129: [1290305, 1290304],\n",
    "          130: [1300310, 1300309], 131: [1310311, 1310310], 132: [1320312, 1320311],\n",
    "          133: [1330314, 1330313], 134: [1340323, 1340322], 135: [1350335, 1350334],\n",
    "          136: [1360333, 1360332], 137: [1370351, 1370350], 138: [1380359, 1380358],\n",
    "          139: [1390364, 1390363], 140: [1400375, 1400374], 141: [1410388, 1410387],\n",
    "          142: [1420389, 1420388], 143: [1430388, 1430387], 144: [1440390, 1440389],\n",
    "          145: [1450398, 1450397], 146: [1460399, 1460398], 147: [1470406, 1470405],\n",
    "          148: [1480410, 1480409], 149: [1490411, 1490410], 150: [1500420, 1500419],\n",
    "          151: [1510419, 1510418], 152: [1520423, 1520422], 153: [1530427, 1530426],\n",
    "          154: [1540428, 1540427], 155: [1550431, 1550430], 156: [1560425, 1560424],\n",
    "          157: [1570428, 1570427], 158: [1580424, 1580423], 159: [1590432, 1590431],\n",
    "          160: [1600437, 1600436], 161: [1610436, 1610435], 162: [1620440, 1620439],\n",
    "          163: [1630438, 1630437], 164: [1640440, 1640439], 165: [1650445, 1650444],\n",
    "          166: [1660445, 1660444], 167: [1670446, 1670445], 168: [1680446, 1680445],\n",
    "          169: [1690440, 1690439], 170: [1700435, 1700434], 171: [1710437, 1710436],\n",
    "          172: [1720434, 1720433], 173: [1730435, 1730434], 174: [1740433, 1740432],\n",
    "          175: [1750427, 1750426], 176: [1760429, 1760428], 177: [1770428, 1770427],\n",
    "          178: [1780427, 1780426], 179: [1790424, 1790423], 180: [1800423, 1800422]}\n",
    "\n",
    "if result == clonal_cells_by_time:\n",
    "    print(\"Correct\")\n",
    "else:\n",
    "    print(\"False\")"
   ]
  },
  {
   "cell_type": "markdown",
   "metadata": {},
   "source": [
    "Then, for each cell id for each time point you want to extract their volumes"
   ]
  },
  {
   "cell_type": "code",
   "execution_count": 40,
   "metadata": {
    "collapsed": false
   },
   "outputs": [
    {
     "name": "stdout",
     "output_type": "stream",
     "text": [
      "False\n"
     ]
    }
   ],
   "source": [
    "clonal_volume = {}\n",
    "\n",
    "result = {82: [119428.0], 83: [124136.0], 84: [121478.0], 85: [119256.0], 86: [115699.0],\n",
    "          87: [122730.0], 88: [124530.0], 89: [129786.0], 90: [127019.0], 91: [115840.0],\n",
    "          92: [111425.0], 93: [112797.0], 94: [111942.0], 95: [108040.0], 96: [110194.0],\n",
    "          97: [110934.0], 98: [110213.0], 99: [111482.0], 100: [109605.0], 101: [108989.0],\n",
    "          102: [109874.0], 103: [114144.0], 104: [116247.0], 105: [117895.0], 106: [113085.0],\n",
    "          107: [111219.0], 108: [111353.0], 109: [110734.0], 110: [112885.0], 111: [114067.0],\n",
    "          112: [117139.0], 113: [117376.0], 114: [116097.0], 115: [117657.0], 116: [112740.0],\n",
    "          117: [114466.0], 118: [115560.0], 119: [113412.0], 120: [116392.0], 121: [114717.0],\n",
    "          122: [112307.0], 123: [112793.0], 124: [116233.0], 125: [115197.0], 126: [114700.0],\n",
    "          127: [60382.0, 60085.0], 128: [59006.0, 59742.0], 129: [57914.0, 58567.0],\n",
    "          130: [57317.0, 60019.0], 131: [56135.0, 59411.0], 132: [56403.0, 58881.0],\n",
    "          133: [55249.0, 57858.0], 134: [55693.0, 57399.0], 135: [54288.0, 56309.0],\n",
    "          136: [55242.0, 55297.0], 137: [56015.0, 53537.0], 138: [56255.0, 53509.0],\n",
    "          139: [56523.0, 52700.0], 140: [57111.0, 54844.0], 141: [56566.0, 54288.0],\n",
    "          142: [55501.0, 55671.0], 143: [54924.0, 56117.0], 144: [54946.0, 55307.0],\n",
    "          145: [55240.0, 55296.0], 146: [54916.0, 53647.0], 147: [54277.0, 53867.0],\n",
    "          148: [54274.0, 54900.0], 149: [53638.0, 54007.0], 150: [54322.0, 53717.0],\n",
    "          151: [53547.0, 54806.0], 152: [53676.0, 54612.0], 153: [53219.0, 55120.0],\n",
    "          154: [52982.0, 55584.0], 155: [55271.0, 56741.0], 156: [54130.0, 55329.0],\n",
    "          157: [54766.0, 55222.0], 158: [56301.0, 55350.0], 159: [53804.0, 54176.0],\n",
    "          160: [55495.0, 55244.0], 161: [55523.0, 55606.0], 162: [55887.0, 56082.0],\n",
    "          163: [55380.0, 56095.0], 164: [55692.0, 57524.0], 165: [54489.0, 57252.0],\n",
    "          166: [54348.0, 56541.0], 167: [55066.0, 57270.0], 168: [55011.0, 55895.0],\n",
    "          169: [55027.0, 55438.0], 170: [57057.0, 56374.0], 171: [55523.0, 56280.0],\n",
    "          172: [55290.0, 56518.0], 173: [55131.0, 56931.0], 174: [54137.0, 56736.0],\n",
    "          175: [55847.0, 56646.0], 176: [56126.0, 56558.0], 177: [55254.0, 56330.0],\n",
    "          178: [55261.0, 56719.0], 179: [54032.0, 55280.0], 180: [54374.0, 55804.0]}\n",
    "\n",
    "if result == clonal_volume:\n",
    "    print(\"Correct\")\n",
    "else:\n",
    "    print(\"False\")"
   ]
  },
  {
   "cell_type": "markdown",
   "metadata": {},
   "source": [
    "Then, for each time point you want to get the sum of volume of the cells"
   ]
  },
  {
   "cell_type": "code",
   "execution_count": 42,
   "metadata": {
    "collapsed": false
   },
   "outputs": [
    {
     "name": "stdout",
     "output_type": "stream",
     "text": [
      "Correct\n"
     ]
    }
   ],
   "source": [
    "clonal_volume_sum = {c: sum(v) for c, v in result.iteritems()}\n",
    "\n",
    "result = {82: 119428.0, 83: 124136.0, 84: 121478.0, 85: 119256.0, 86: 115699.0,\n",
    "          87: 122730.0, 88: 124530.0, 89: 129786.0, 90: 127019.0, 91: 115840.0,\n",
    "          92: 111425.0, 93: 112797.0, 94: 111942.0, 95: 108040.0, 96: 110194.0,\n",
    "          97: 110934.0, 98: 110213.0, 99: 111482.0, 100: 109605.0, 101: 108989.0,\n",
    "          102: 109874.0, 103: 114144.0, 104: 116247.0, 105: 117895.0, 106: 113085.0,\n",
    "          107: 111219.0, 108: 111353.0, 109: 110734.0, 110: 112885.0, 111: 114067.0,\n",
    "          112: 117139.0, 113: 117376.0, 114: 116097.0, 115: 117657.0, 116: 112740.0,\n",
    "          117: 114466.0, 118: 115560.0, 119: 113412.0, 120: 116392.0, 121: 114717.0,\n",
    "          122: 112307.0, 123: 112793.0, 124: 116233.0, 125: 115197.0, 126: 114700.0,\n",
    "          127: 120467.0, 128: 118748.0, 129: 116481.0, 130: 117336.0, 131: 115546.0,\n",
    "          132: 115284.0, 133: 113107.0, 134: 113092.0, 135: 110597.0, 136: 110539.0,\n",
    "          137: 109552.0, 138: 109764.0, 139: 109223.0, 140: 111955.0, 141: 110854.0,\n",
    "          142: 111172.0, 143: 111041.0, 144: 110253.0, 145: 110536.0, 146: 108563.0,\n",
    "          147: 108144.0, 148: 109174.0, 149: 107645.0, 150: 108039.0, 151: 108353.0,\n",
    "          152: 108288.0, 153: 108339.0, 154: 108566.0, 155: 112012.0, 156: 109459.0,\n",
    "          157: 109988.0, 158: 111651.0, 159: 107980.0, 160: 110739.0, 161: 111129.0,\n",
    "          162: 111969.0, 163: 111475.0, 164: 113216.0, 165: 111741.0, 166: 110889.0,\n",
    "          167: 112336.0, 168: 110906.0, 169: 110465.0, 170: 113431.0, 171: 111803.0,\n",
    "          172: 111808.0, 173: 112062.0, 174: 110873.0, 175: 112493.0, 176: 112684.0,\n",
    "          177: 111584.0, 178: 111980.0, 179: 109312.0, 180: 110178.0}\n",
    "\n",
    "if result == clonal_volume_sum:\n",
    "    print(\"Correct\")\n",
    "else:\n",
    "    print(\"False\")"
   ]
  },
  {
   "cell_type": "markdown",
   "metadata": {},
   "source": [
    "And ultimately you want to plot the evolution of volume of the clone in time"
   ]
  },
  {
   "cell_type": "code",
   "execution_count": 46,
   "metadata": {
    "collapsed": false
   },
   "outputs": [
    {
     "name": "stdout",
     "output_type": "stream",
     "text": [
      "False\n"
     ]
    }
   ],
   "source": [
    "volume_evolution = []\n",
    "\n",
    "result = [119428.0, 124136.0, 121478.0, 119256.0, 115699.0, 122730.0, 124530.0,\n",
    "          129786.0, 127019.0, 115840.0, 111425.0, 112797.0, 111942.0, 108040.0,\n",
    "          110194.0, 110934.0, 110213.0, 111482.0, 109605.0, 108989.0, 109874.0,\n",
    "          114144.0, 116247.0, 117895.0, 113085.0, 111219.0, 111353.0, 110734.0,\n",
    "          112885.0, 114067.0, 117139.0, 117376.0, 116097.0, 117657.0, 112740.0,\n",
    "          114466.0, 115560.0, 113412.0, 116392.0, 114717.0, 112307.0, 112793.0,\n",
    "          116233.0, 115197.0, 114700.0, 120467.0, 118748.0, 116481.0, 117336.0,\n",
    "          115546.0, 115284.0, 113107.0, 113092.0, 110597.0, 110539.0, 109552.0,\n",
    "          109764.0, 109223.0, 111955.0, 110854.0, 111172.0, 111041.0, 110253.0,\n",
    "          110536.0, 108563.0, 108144.0, 109174.0, 107645.0, 108039.0, 108353.0,\n",
    "          108288.0, 108339.0, 108566.0, 112012.0, 109459.0, 109988.0, 111651.0,\n",
    "          107980.0, 110739.0, 111129.0, 111969.0, 111475.0, 113216.0, 111741.0,\n",
    "          110889.0, 112336.0, 110906.0, 110465.0, 113431.0, 111803.0, 111808.0,\n",
    "          112062.0, 110873.0, 112493.0, 112684.0, 111584.0, 111980.0, 109312.0, 110178.0]\n",
    "\n",
    "if result == volume_evolution:\n",
    "    print(\"Correct\")\n",
    "else:\n",
    "    print(\"False\")"
   ]
  }
 ],
 "metadata": {
  "kernelspec": {
   "display_name": "Python 2",
   "language": "python",
   "name": "python2"
  },
  "language_info": {
   "codemirror_mode": {
    "name": "ipython",
    "version": 2
   },
   "file_extension": ".py",
   "mimetype": "text/x-python",
   "name": "python",
   "nbconvert_exporter": "python",
   "pygments_lexer": "ipython2",
   "version": "2.7.11"
  }
 },
 "nbformat": 4,
 "nbformat_minor": 0
}
